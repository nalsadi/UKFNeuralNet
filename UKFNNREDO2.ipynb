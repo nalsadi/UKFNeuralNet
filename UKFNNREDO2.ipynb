{
  "nbformat": 4,
  "nbformat_minor": 0,
  "metadata": {
    "colab": {
      "name": "UKFNNREDO.ipynb",
      "provenance": [],
      "collapsed_sections": [
        "43YM_WCR55Hv"
      ],
      "toc_visible": true,
      "include_colab_link": true
    },
    "kernelspec": {
      "display_name": "Python 3",
      "language": "python",
      "name": "python3"
    },
    "language_info": {
      "codemirror_mode": {
        "name": "ipython",
        "version": 3
      },
      "file_extension": ".py",
      "mimetype": "text/x-python",
      "name": "python",
      "nbconvert_exporter": "python",
      "pygments_lexer": "ipython3",
      "version": "3.7.4"
    },
    "accelerator": "GPU"
  },
  "cells": [
    {
      "cell_type": "markdown",
      "metadata": {
        "id": "view-in-github",
        "colab_type": "text"
      },
      "source": [
        "<a href=\"https://colab.research.google.com/github/nalsadi/UKFNeuralNet/blob/master/UKFNNREDO2.ipynb\" target=\"_parent\"><img src=\"https://colab.research.google.com/assets/colab-badge.svg\" alt=\"Open In Colab\"/></a>"
      ]
    },
    {
      "cell_type": "markdown",
      "metadata": {
        "id": "vm7nP7Wi401U",
        "colab_type": "text"
      },
      "source": [
        "# UKF Optimization for a Neural Network"
      ]
    },
    {
      "cell_type": "markdown",
      "metadata": {
        "id": "qnU9Sc37Qqha",
        "colab_type": "text"
      },
      "source": [
        "Note: This is a filterpy implementation"
      ]
    },
    {
      "cell_type": "markdown",
      "metadata": {
        "id": "NMncLIwB5jOt",
        "colab_type": "text"
      },
      "source": [
        "### Three Core Components:\n",
        "1. Install Libs\n",
        "\n",
        "2. The UKF Library\n",
        "\n",
        "3. The UKF Implementation "
      ]
    },
    {
      "cell_type": "markdown",
      "metadata": {
        "id": "43YM_WCR55Hv",
        "colab_type": "text"
      },
      "source": [
        "## Install Requirements "
      ]
    },
    {
      "cell_type": "code",
      "metadata": {
        "id": "99tyimfS6Tmm",
        "colab_type": "code",
        "colab": {
          "base_uri": "https://localhost:8080/",
          "height": 190
        },
        "outputId": "897733b3-6e4c-44bc-fcb2-4f9ce5d2b2c4"
      },
      "source": [
        "!pip install filterpy"
      ],
      "execution_count": 45,
      "outputs": [
        {
          "output_type": "stream",
          "text": [
            "Requirement already satisfied: filterpy in /usr/local/lib/python3.6/dist-packages (1.4.5)\n",
            "Requirement already satisfied: scipy in /usr/local/lib/python3.6/dist-packages (from filterpy) (1.4.1)\n",
            "Requirement already satisfied: numpy in /usr/local/lib/python3.6/dist-packages (from filterpy) (1.18.5)\n",
            "Requirement already satisfied: matplotlib in /usr/local/lib/python3.6/dist-packages (from filterpy) (3.2.2)\n",
            "Requirement already satisfied: python-dateutil>=2.1 in /usr/local/lib/python3.6/dist-packages (from matplotlib->filterpy) (2.8.1)\n",
            "Requirement already satisfied: cycler>=0.10 in /usr/local/lib/python3.6/dist-packages (from matplotlib->filterpy) (0.10.0)\n",
            "Requirement already satisfied: pyparsing!=2.0.4,!=2.1.2,!=2.1.6,>=2.0.1 in /usr/local/lib/python3.6/dist-packages (from matplotlib->filterpy) (2.4.7)\n",
            "Requirement already satisfied: kiwisolver>=1.0.1 in /usr/local/lib/python3.6/dist-packages (from matplotlib->filterpy) (1.2.0)\n",
            "Requirement already satisfied: six>=1.5 in /usr/local/lib/python3.6/dist-packages (from python-dateutil>=2.1->matplotlib->filterpy) (1.12.0)\n"
          ],
          "name": "stdout"
        }
      ]
    },
    {
      "cell_type": "markdown",
      "metadata": {
        "id": "cbHCi9ju5jOu",
        "colab_type": "text"
      },
      "source": [
        "## Setting Up the Library and Globals"
      ]
    },
    {
      "cell_type": "code",
      "metadata": {
        "id": "rfnW_1URWXUm",
        "colab_type": "code",
        "colab": {}
      },
      "source": [
        "from pprint import pformat\n",
        "import numpy as np\n",
        "import matplotlib.pyplot as plt\n",
        "import collections\n",
        "import logging\n",
        "from filterpy.kalman import KalmanFilter, UnscentedKalmanFilter, MerweScaledSigmaPoints, unscented_transform\n",
        "from keras.models import Sequential\n",
        "from keras.layers import Dense, Dropout\n",
        "import math, os, time, logging\n",
        "from sklearn.metrics import mean_squared_error\n",
        "from keras.callbacks import Callback\n",
        "\n",
        "epochs = 12\n",
        "train_series_length = 500\n",
        "test_series_length = 1000\n",
        "mg_tau = 30\n",
        "window_size = 12    # M\n",
        "ukf_dt = 0.1\n",
        "alpha, beta, kappa = 1, 2, 1  # Worked well\n",
        "# alpha, beta, kappa = 0.001, 2, 1\n",
        "Q_var = 0.001\n",
        "R_var = 0.001\n",
        "train_ukf_ann = True\n",
        "#X_data = None\n",
        "#y_data = None\n",
        "hxw_model = None\n",
        "curr_idx = 0\n"
      ],
      "execution_count": 44,
      "outputs": []
    },
    {
      "cell_type": "markdown",
      "metadata": {
        "id": "Q1Opda7ETNL3",
        "colab_type": "text"
      },
      "source": [
        "##Tools for Plotting and Data Generation "
      ]
    },
    {
      "cell_type": "code",
      "metadata": {
        "id": "LPWrgLHOFpva",
        "colab_type": "code",
        "colab": {}
      },
      "source": [
        "figures_list = []\n",
        "\n",
        "\n",
        "def add_figure_to_save(fig):\n",
        "    figures_list.append(fig)\n",
        "\n",
        "\n",
        "def save_all_figures(dir):\n",
        "    for i, fig in enumerate(figures_list):\n",
        "        filename = dir + '/fig_' + str(i) + '.png'\n",
        "        fig.savefig(filename)\n",
        "    print('All figures saved to {}'.format(dir))\n",
        "\n",
        "\n",
        "def setup_logging(output_dir):\n",
        "    log_filename = output_dir + '/' + 'run_log.log'\n",
        "\n",
        "    # noinspection PyArgumentList\n",
        "    logging.basicConfig(\n",
        "        format=\"%(asctime)s [%(levelname)s] %(message)s\",\n",
        "        handlers=[logging.StreamHandler(),\n",
        "                  logging.FileHandler(log_filename, 'w+')],\n",
        "        level=logging.INFO\n",
        "    )\n",
        "\n",
        "\n",
        "def plot(x, y, xlabel=None, y_label=None, title=None, new_figure=True, **kwargs):\n",
        "    if new_figure:\n",
        "        fig = plt.figure()\n",
        "        add_figure_to_save(fig)\n",
        "        plt.title(title)\n",
        "        plt.xlabel(xlabel)\n",
        "        plt.ylabel(y_label)\n",
        "    plt.plot(x, y, **kwargs)\n",
        "    plt.legend(loc='upper right')\n",
        "\n",
        "\n",
        "def mackey_glass(sample_len=1000, tau=17, seed=None, n_samples=1):\n",
        "    '''\n",
        "    mackey_glass(sample_len=1000, tau=17, seed = None, n_samples = 1) -> input\n",
        "    Generate the Mackey Glass time-series. Parameters are:\n",
        "        - sample_len: length of the time-series in timesteps. Default is 1000.\n",
        "        - tau: delay of the MG - system. Commonly used values are tau=17 (mild\n",
        "          chaos) and tau=30 (moderate chaos). Default is 17.\n",
        "        - seed: to seed the random generator, can be used to generate the same\n",
        "          timeseries at each invocation.\n",
        "        - n_samples : number of samples to generate\n",
        "    '''\n",
        "    delta_t = 10\n",
        "    history_len = tau * delta_t\n",
        "    # Initial conditions for the history of the system\n",
        "    timeseries = 1.2\n",
        "\n",
        "    if seed is not None:\n",
        "        np.random.seed(seed)\n",
        "\n",
        "    samples = []\n",
        "\n",
        "    for _ in range(n_samples):\n",
        "        history = collections.deque(1.2 * np.ones(history_len) + 0.2 * \\\n",
        "                                    (np.random.rand(history_len) - 0.5))\n",
        "        # Preallocate the array for the time-series\n",
        "        inp = np.zeros((sample_len, 1))\n",
        "\n",
        "        for timestep in range(sample_len):\n",
        "            for _ in range(delta_t):\n",
        "                xtau = history.popleft()\n",
        "                history.append(timeseries)\n",
        "                timeseries = history[-1] + (0.2 * xtau / (1.0 + xtau ** 10) - 0.1 * history[-1]) / delta_t\n",
        "            inp[timestep] = timeseries\n",
        "\n",
        "        # Squash timeseries through tanh\n",
        "        inp = np.tanh(inp - 1)\n",
        "        samples.append(inp)\n",
        "    return samples\n",
        "\n",
        "\n",
        "def generate_state_series(x_init, F, Q, n_samples):\n",
        "    \"\"\" Generates a series of state variables\n",
        "        # Arguments\n",
        "            x_init: Initial value of state variables (Mx1)\n",
        "            F: Process state transition matrix (MxM)\n",
        "            Q: Process noise covariance matrix (MxM)\n",
        "        # Returns\n",
        "            A numpy array (M x n_samples)\n",
        "    \"\"\"\n",
        "    M = x_init.shape[0]\n",
        "    x_series = np.zeros(shape=(M, n_samples))\n",
        "    x_series[:, 0] = x_init[:, 0]\n",
        "\n",
        "    for i in range(1, n_samples):\n",
        "        x_series[:, i] = np.matmul(x_series[:, i-1], F)\n",
        "\n",
        "    return x_series\n",
        "\n",
        "\n",
        "def generate_measurement_series(x_series, H, R=None, noise_type='gaussian'):\n",
        "    \"\"\" Generates a series of measurements for a series of state variables\n",
        "            # Arguments\n",
        "                x_series: Series of state variables (M x n_samples)\n",
        "                H: Measurement function matrix (DxM)\n",
        "                R: Measurement noise covariance matrix (DxD)\n",
        "            # Returns\n",
        "                A numpy array (D x n_samples)\n",
        "        \"\"\"\n",
        "    n_samples = x_series.shape[1]\n",
        "    D = H.shape[0]\n",
        "\n",
        "    z_series = np.matmul(H, x_series)   # D x n_samples\n",
        "\n",
        "    if R is not None:\n",
        "        for dim in range(D):\n",
        "            mean = 0.\n",
        "            var = R.diagonal()[dim]\n",
        "            noise = get_noise_series(noise_type, mean, var, n_samples)\n",
        "            z_series[dim, :] += noise\n",
        "\n",
        "    return z_series\n",
        "\n",
        "\n",
        "def get_noise_series(noise_type, mean, var, n_samples):\n",
        "    if noise_type == 'gaussian':\n",
        "        noise = np.random.normal(mean, var, n_samples)\n",
        "    elif noise_type == 'uniform':\n",
        "        a = (3 * var) ** 0.5  # variance = a^2 / 3 for uniform~(-a, +a)\n",
        "        noise = np.random.uniform(low=-a, high=a, size=n_samples)\n",
        "    else:\n",
        "        assert False\n",
        "\n",
        "    return noise\n",
        "\n",
        "def predict_series(ann, X_data, series_length, window):\n",
        "    pred = ann.predict(X_data)\n",
        "    y_pred_series = np.zeros(series_length)\n",
        "    y_pred_series[window + 1:] = pred.reshape(len(pred))\n",
        "\n",
        "    y_self_pred_series = np.zeros(series_length)\n",
        "    y_self_pred_series[:window] = X_data[0]\n",
        "    for i in range(window, series_length):\n",
        "        X_window = y_self_pred_series[i - window:i]\n",
        "        y = ann.predict(X_window.reshape(1, window))  # Reshape needed\n",
        "        y_self_pred_series[i] = y\n",
        "\n",
        "    return y_pred_series, y_self_pred_series"
      ],
      "execution_count": 43,
      "outputs": []
    },
    {
      "cell_type": "code",
      "metadata": {
        "id": "UAip2yKy5zcw",
        "colab_type": "code",
        "colab": {}
      },
      "source": [
        "class EpochInfoTracker(Callback):\n",
        "    def __init__(self):\n",
        "        self.weights_history = []\n",
        "\n",
        "    def on_epoch_end(self, epoch, logs=None):\n",
        "        weights_vec = get_weights_vector(self.model)\n",
        "        self.weights_history.append(weights_vec)"
      ],
      "execution_count": 42,
      "outputs": []
    },
    {
      "cell_type": "code",
      "metadata": {
        "id": "k879s81UGDMN",
        "colab_type": "code",
        "colab": {
          "base_uri": "https://localhost:8080/",
          "height": 51
        },
        "outputId": "9538039f-cac9-41f6-e5d4-759d857aea0d"
      },
      "source": [
        "try:\n",
        "  !mkdir output\n",
        "except:\n",
        "  print(\"Already exists\")\n",
        "setup_logging('output')\n",
        "logging.info('Experiment parameters below')\n",
        "window = window_size\n",
        "dt = 0.01\n",
        "n_samples = train_series_length\n"
      ],
      "execution_count": 41,
      "outputs": [
        {
          "output_type": "stream",
          "text": [
            "mkdir: cannot create directory ‘output’: File exists\n"
          ],
          "name": "stdout"
        },
        {
          "output_type": "stream",
          "text": [
            "2020-07-17 20:02:57,542 [INFO] Experiment parameters below\n"
          ],
          "name": "stderr"
        }
      ]
    },
    {
      "cell_type": "code",
      "metadata": {
        "id": "bmbodCdNGwT5",
        "colab_type": "code",
        "colab": {}
      },
      "source": [
        "def prepare_dataset(series, M, stride):\n",
        "    X, y = [], []\n",
        "    for i in range(0, len(series) - M - 1, stride):\n",
        "        window = series[i:(i + M)]  #\n",
        "        X.append(window)\n",
        "        y.append(series[i + M])\n",
        "    return np.array(X), np.array(y)"
      ],
      "execution_count": 40,
      "outputs": []
    },
    {
      "cell_type": "markdown",
      "metadata": {
        "id": "DoW9TQIVHFzS",
        "colab_type": "text"
      },
      "source": [
        "## Set up UKF "
      ]
    },
    {
      "cell_type": "code",
      "metadata": {
        "id": "qaeTlXMfvccv",
        "colab_type": "code",
        "colab": {}
      },
      "source": [
        "class Params:\n",
        "    pass\n",
        "\n",
        "\n",
        "params = Params()\n",
        "params.epochs = 12\n",
        "params.train_series_length = 500\n",
        "params.test_series_length = 1000\n",
        "params.mg_tau = 30\n",
        "params.window_size = 12    # M\n",
        "params.ukf_dt = 0.1\n",
        "params.alpha, params.beta, params.kappa = 1, 2, 1  # Worked well\n",
        "# params.alpha, params.beta, params.kappa = 0.001, 2, 1\n",
        "params.Q_var = 0.001\n",
        "params.R_var = 0.001\n",
        "\n",
        "# To make training data and related variables accessible across functions\n",
        "params.train_ukf_ann = True\n",
        "params.X_data = None\n",
        "params.y_data = None\n",
        "params.hxw_model = None\n",
        "params.curr_idx = 0\n",
        "\n",
        "\n",
        "def measurement_func(w, x):\n",
        "    hxw_model = params.hxw_model\n",
        "    set_weights(hxw_model, w)\n",
        "    hxw = hxw_model.predict(x.reshape(1, len(x)))   # Reshape needed to feed x as 1 sample to ANN model\n",
        "    hxw = hxw.flatten() # Flatten to make shape = (1,)\n",
        "    return hxw\n",
        "\n",
        "\n",
        "def fw(w, dt=None):\n",
        "    return w    # Identity\n",
        "\n",
        "\n",
        "def hw(w):\n",
        "    x = params.X_data[params.curr_idx]\n",
        "    hxw = measurement_func(w, x)\n",
        "    return hxw\n",
        "\n",
        "\n",
        "def create_ukf(Q, R, dt, w_init, P_init):\n",
        "    M = w_init.shape[0]\n",
        "\n",
        "    points = MerweScaledSigmaPoints(M, params.alpha, params.beta, params.kappa)\n",
        "\n",
        "    ukf = UnscentedKalmanFilter(dim_x=M, dim_z=1, dt=dt, fx=fw, hx=hw, points=points)\n",
        "    ukf.x = w_init\n",
        "    ukf.P = P_init\n",
        "    ukf.R = R\n",
        "    ukf.Q = Q\n",
        "\n",
        "    return ukf"
      ],
      "execution_count": 39,
      "outputs": []
    },
    {
      "cell_type": "code",
      "metadata": {
        "id": "3VzF4kdPRxqQ",
        "colab_type": "code",
        "colab": {}
      },
      "source": [
        "train_ukf_ann = True\n",
        "#X_data = None\n",
        "#y_data = None\n",
        "globals()['hxw_model'] = None\n",
        "#hxw_model = None\n",
        "curr_idx = 0\n",
        "\n",
        "def measurement_func(w, x):\n",
        "    hxw_model = globals()['hxw_model'] #hxw_model\n",
        "    set_weights(hxw_model, w)\n",
        "    hxw = hxw_model.predict(x.reshape(1, len(x)))   # Reshape needed to feed x as 1 sample to ANN model\n",
        "    hxw = hxw.flatten() # Flatten to make shape = (1,)\n",
        "    return hxw\n",
        "\n",
        "def fw(w, dt=None):\n",
        "    return w    # Identity\n",
        "\n",
        "def hw(w):\n",
        "    X_data = params.X_data\n",
        "    x = X_data[curr_idx]\n",
        "    hxw = measurement_func(w, x)\n",
        "    return hxw\n",
        "\n",
        "def create_ukf(Q, R, dt, w_init, P_init):\n",
        "    M = w_init.shape[0]\n",
        "    points = MerweScaledSigmaPoints(M, alpha, beta, kappa)\n",
        "    ukf = UnscentedKalmanFilter(dim_x=M, dim_z=1, dt=dt, fx=fw, hx=hw, points=points)\n",
        "    ukf.x = w_init\n",
        "    ukf.P = P_init\n",
        "    ukf.R = R\n",
        "    ukf.Q = Q\n",
        "    return ukf"
      ],
      "execution_count": 8,
      "outputs": []
    },
    {
      "cell_type": "markdown",
      "metadata": {
        "id": "xYdLR-R-Wnfu",
        "colab_type": "text"
      },
      "source": [
        "## Neural Net Tools"
      ]
    },
    {
      "cell_type": "code",
      "metadata": {
        "id": "4V74rVA-I2vL",
        "colab_type": "code",
        "colab": {}
      },
      "source": [
        "def create_neural_net(M):\n",
        "    ann = Sequential()\n",
        "    ann.add(Dense(1, input_dim=M, activation='tanh'))  # output (x_k) - no activation because we don't want to limit the range of output\n",
        "    ann.compile(optimizer='sgd', loss='mse')\n",
        "    ann.summary()\n",
        "    return ann"
      ],
      "execution_count": 36,
      "outputs": []
    },
    {
      "cell_type": "code",
      "metadata": {
        "id": "b7oM0I7zXxln",
        "colab_type": "code",
        "colab": {}
      },
      "source": [
        "def create_my_ukf(Q, R, dt, w_init, P_init):\n",
        "    my_ukf = ukf.UnscentedKalmanFilter(fw, hw, R, Q, w_init, P_init, params.alpha, params.beta, params.kappa)\n",
        "    return my_ukf"
      ],
      "execution_count": 37,
      "outputs": []
    },
    {
      "cell_type": "code",
      "metadata": {
        "id": "l18bLjW8Q9HZ",
        "colab_type": "code",
        "colab": {}
      },
      "source": [
        "def get_weights_vector(model):\n",
        "    weights = model.get_weights()\n",
        "    # logging.info(weights)\n",
        "    weights_vec = []\n",
        "    for w_mat in weights:\n",
        "        weights_vec.extend(w_mat.reshape(w_mat.size))\n",
        "\n",
        "    weights_vec = np.array(weights_vec)\n",
        "    return weights_vec\n",
        "\n",
        "def set_weights(model, weights_vec):\n",
        "    prev_weights = model.get_weights()\n",
        "    # logging.info(prev_weights)\n",
        "    new_weights = []\n",
        "    start = 0\n",
        "\n",
        "    for prev_w_mat in prev_weights:\n",
        "        end = start + prev_w_mat.size\n",
        "        new_w_mat = np.array(weights_vec[start: end]).reshape(prev_w_mat.shape)\n",
        "        new_weights.append(new_w_mat)\n",
        "        start = end\n",
        "\n",
        "    model.set_weights(new_weights)"
      ],
      "execution_count": 38,
      "outputs": []
    },
    {
      "cell_type": "code",
      "metadata": {
        "id": "k6wK0beJr2H_",
        "colab_type": "code",
        "colab": {}
      },
      "source": [
        "def evaluate_neural_nets(sgd_ann, ukf_ann, window, use_train_series=False, train_series=None):\n",
        "    \n",
        "    if use_train_series:\n",
        "        X_data, y_data = params.X_data, params.y_data\n",
        "        \n",
        "        series = train_series\n",
        "        sample_len = params.train_series_length\n",
        "        title = \"Train series (true vs. predicted)\"\n",
        "    else:\n",
        "        sample_len = test_series_length\n",
        "        series = mackey_glass(sample_len=sample_len, tau=mg_tau)\n",
        "        series = np.array(series[0]).reshape((sample_len))\n",
        "        X_data, y_data = prepare_dataset(series, window, stride=1)\n",
        "        title = \"Test series (true vs. predicted)\"\n",
        "    ukf_pred, ukf_self_pred = predict_series(ukf_ann, X_data, sample_len, window)\n",
        "    plot(range(sample_len), series, title=title, label='True series')\n",
        "    plot(range(sample_len), ukf_pred, new_figure=False, label='UKF ANN prediction (based on true windows)')"
      ],
      "execution_count": 46,
      "outputs": []
    },
    {
      "cell_type": "markdown",
      "metadata": {
        "id": "89_YCeJVbN78",
        "colab_type": "text"
      },
      "source": [
        "## Data Generation"
      ]
    },
    {
      "cell_type": "code",
      "metadata": {
        "id": "rNViXJOrYuf_",
        "colab_type": "code",
        "colab": {}
      },
      "source": [
        "#X_series = mackey_glass(sample_len=n_samples, tau=mg_tau, n_samples=window)\n",
        "#X_series = np.array(X_series[0]).reshape((n_samples))\n",
        "\n",
        "#globals()['X_data'], globals()['y_data'] = prepare_dataset(X_series, window, stride=1)\n",
        "\n",
        "X_series = mackey_glass(sample_len=n_samples, tau=params.mg_tau, n_samples=window)\n",
        "X_series = np.array(X_series[0]).reshape((n_samples))\n",
        "\n",
        "params.X_data, params.y_data = prepare_dataset(X_series, window, stride=1)"
      ],
      "execution_count": 47,
      "outputs": []
    },
    {
      "cell_type": "markdown",
      "metadata": {
        "id": "L1y0yxizbqEO",
        "colab_type": "text"
      },
      "source": [
        "## Setting Up Neural Network"
      ]
    },
    {
      "cell_type": "code",
      "metadata": {
        "id": "tmA_5a6RHExJ",
        "colab_type": "code",
        "colab": {
          "base_uri": "https://localhost:8080/",
          "height": 357
        },
        "outputId": "f7ba88b4-c7ca-4b06-875e-be1b4236ea6d"
      },
      "source": [
        "# Create ANN, get its initial weights\n",
        "globals()['hxw_model'] = create_neural_net(window)\n",
        "w_init = get_weights_vector(hxw_model)\n",
        "num_weights = w_init.shape[0]\n",
        "P_init = 0.1 * np.eye(num_weights)  # Initial values of covariance matrix of state variables (MxM)\n",
        "Q = Q_var * np.eye(num_weights)  # Process noise covariance matrix (MxM)\n",
        "R = np.array([[R_var]])  # Measurement noise covariance matrix (DxD)\n",
        "\n",
        "ukf_ann = create_neural_net(window)\n",
        "ukf_ann.set_weights(hxw_model.get_weights())  # Same starting point as the UKF_ANN\n",
        "\n",
        "z_true_series = params.y_data\n",
        "num_iter = params.epochs * len(z_true_series)"
      ],
      "execution_count": 48,
      "outputs": [
        {
          "output_type": "stream",
          "text": [
            "Model: \"sequential_27\"\n",
            "_________________________________________________________________\n",
            "Layer (type)                 Output Shape              Param #   \n",
            "=================================================================\n",
            "dense_27 (Dense)             (None, 1)                 13        \n",
            "=================================================================\n",
            "Total params: 13\n",
            "Trainable params: 13\n",
            "Non-trainable params: 0\n",
            "_________________________________________________________________\n",
            "Model: \"sequential_28\"\n",
            "_________________________________________________________________\n",
            "Layer (type)                 Output Shape              Param #   \n",
            "=================================================================\n",
            "dense_28 (Dense)             (None, 1)                 13        \n",
            "=================================================================\n",
            "Total params: 13\n",
            "Trainable params: 13\n",
            "Non-trainable params: 0\n",
            "_________________________________________________________________\n"
          ],
          "name": "stdout"
        }
      ]
    },
    {
      "cell_type": "markdown",
      "metadata": {
        "id": "ty-yzTUFbsUU",
        "colab_type": "text"
      },
      "source": [
        "## Main "
      ]
    },
    {
      "cell_type": "markdown",
      "metadata": {
        "id": "qKgC2cjbb-Me",
        "colab_type": "text"
      },
      "source": [
        "### Instantiaizing UKF"
      ]
    },
    {
      "cell_type": "code",
      "metadata": {
        "id": "MVMv2_zAcFFx",
        "colab_type": "code",
        "colab": {}
      },
      "source": [
        "ukf_filter = create_ukf(Q, R, dt, w_init, P_init)\n",
        "ukf_w = np.zeros((num_weights, epochs))\n",
        "ukf_train_mse = np.zeros(epochs)"
      ],
      "execution_count": 49,
      "outputs": []
    },
    {
      "cell_type": "markdown",
      "metadata": {
        "id": "YtIuTmY7cNV4",
        "colab_type": "text"
      },
      "source": [
        "### Training Loop"
      ]
    },
    {
      "cell_type": "code",
      "metadata": {
        "id": "65mrRNNHIHBq",
        "colab_type": "code",
        "colab": {
          "base_uri": "https://localhost:8080/",
          "height": 375
        },
        "outputId": "2558f00d-efa6-44be-8fa6-063702534b24"
      },
      "source": [
        "t0 = time.time()\n",
        "epoch = 0\n",
        "for i in range(num_iter):\n",
        "  idx = i % len(z_true_series)\n",
        "  if idx == 0:\n",
        "    if not train_ukf_ann:\n",
        "      break\n",
        "                \n",
        "    preds = ukf_ann.predict(params.X_data)\n",
        "    mse = mean_squared_error(z_true_series, preds)\n",
        "    ukf_train_mse[epoch] = mse\n",
        "\n",
        "    ukf_w[:, epoch] = ukf_filter.x[:]\n",
        "    epoch += 1\n",
        " \n",
        "  curr_idx = idx \n",
        "\n",
        "  ukf_filter.predict()\n",
        "  z = z_true_series[idx]\n",
        "  ukf_filter.update(z)\n",
        "\n",
        "  set_weights(params.hxw_model, ukf_filter.x)\n",
        "  set_weights(ukf_ann, ukf_filter.x)\n",
        "\n",
        "\n",
        "  time_to_train = time.time() - t0\n",
        "  logging.info('Training complete. time_to_train = {:.2f} sec, {:.2f} min'.format(time_to_train, time_to_train / 60))\n",
        "\n",
        "  logging.info('Visualize evolution of true y vs. hxw(x,w)')\n",
        "\n",
        "  x_var = range(epochs)\n",
        "\n",
        "  logging.info('Evaluating and visualizing neural net predictions')\n",
        "  evaluate_neural_nets(None, ukf_ann, window, use_train_series=True, train_series=X_series)\n",
        "  evaluate_neural_nets(None, ukf_ann, window)\n",
        "\n",
        "  plt.show()"
      ],
      "execution_count": 50,
      "outputs": [
        {
          "output_type": "error",
          "ename": "AttributeError",
          "evalue": "ignored",
          "traceback": [
            "\u001b[0;31m---------------------------------------------------------------------------\u001b[0m",
            "\u001b[0;31mAttributeError\u001b[0m                            Traceback (most recent call last)",
            "\u001b[0;32m<ipython-input-50-c0b47ca77c60>\u001b[0m in \u001b[0;36m<module>\u001b[0;34m()\u001b[0m\n\u001b[1;32m     18\u001b[0m   \u001b[0mukf_filter\u001b[0m\u001b[0;34m.\u001b[0m\u001b[0mpredict\u001b[0m\u001b[0;34m(\u001b[0m\u001b[0;34m)\u001b[0m\u001b[0;34m\u001b[0m\u001b[0;34m\u001b[0m\u001b[0m\n\u001b[1;32m     19\u001b[0m   \u001b[0mz\u001b[0m \u001b[0;34m=\u001b[0m \u001b[0mz_true_series\u001b[0m\u001b[0;34m[\u001b[0m\u001b[0midx\u001b[0m\u001b[0;34m]\u001b[0m\u001b[0;34m\u001b[0m\u001b[0;34m\u001b[0m\u001b[0m\n\u001b[0;32m---> 20\u001b[0;31m   \u001b[0mukf_filter\u001b[0m\u001b[0;34m.\u001b[0m\u001b[0mupdate\u001b[0m\u001b[0;34m(\u001b[0m\u001b[0mz\u001b[0m\u001b[0;34m)\u001b[0m\u001b[0;34m\u001b[0m\u001b[0;34m\u001b[0m\u001b[0m\n\u001b[0m\u001b[1;32m     21\u001b[0m \u001b[0;34m\u001b[0m\u001b[0m\n\u001b[1;32m     22\u001b[0m   \u001b[0mset_weights\u001b[0m\u001b[0;34m(\u001b[0m\u001b[0mparams\u001b[0m\u001b[0;34m.\u001b[0m\u001b[0mhxw_model\u001b[0m\u001b[0;34m,\u001b[0m \u001b[0mukf_filter\u001b[0m\u001b[0;34m.\u001b[0m\u001b[0mx\u001b[0m\u001b[0;34m)\u001b[0m\u001b[0;34m\u001b[0m\u001b[0;34m\u001b[0m\u001b[0m\n",
            "\u001b[0;32m/usr/local/lib/python3.6/dist-packages/filterpy/kalman/UKF.py\u001b[0m in \u001b[0;36mupdate\u001b[0;34m(self, z, R, UT, hx, **hx_args)\u001b[0m\n\u001b[1;32m    443\u001b[0m         \u001b[0msigmas_h\u001b[0m \u001b[0;34m=\u001b[0m \u001b[0;34m[\u001b[0m\u001b[0;34m]\u001b[0m\u001b[0;34m\u001b[0m\u001b[0;34m\u001b[0m\u001b[0m\n\u001b[1;32m    444\u001b[0m         \u001b[0;32mfor\u001b[0m \u001b[0ms\u001b[0m \u001b[0;32min\u001b[0m \u001b[0mself\u001b[0m\u001b[0;34m.\u001b[0m\u001b[0msigmas_f\u001b[0m\u001b[0;34m:\u001b[0m\u001b[0;34m\u001b[0m\u001b[0;34m\u001b[0m\u001b[0m\n\u001b[0;32m--> 445\u001b[0;31m             \u001b[0msigmas_h\u001b[0m\u001b[0;34m.\u001b[0m\u001b[0mappend\u001b[0m\u001b[0;34m(\u001b[0m\u001b[0mhx\u001b[0m\u001b[0;34m(\u001b[0m\u001b[0ms\u001b[0m\u001b[0;34m,\u001b[0m \u001b[0;34m**\u001b[0m\u001b[0mhx_args\u001b[0m\u001b[0;34m)\u001b[0m\u001b[0;34m)\u001b[0m\u001b[0;34m\u001b[0m\u001b[0;34m\u001b[0m\u001b[0m\n\u001b[0m\u001b[1;32m    446\u001b[0m \u001b[0;34m\u001b[0m\u001b[0m\n\u001b[1;32m    447\u001b[0m         \u001b[0mself\u001b[0m\u001b[0;34m.\u001b[0m\u001b[0msigmas_h\u001b[0m \u001b[0;34m=\u001b[0m \u001b[0mnp\u001b[0m\u001b[0;34m.\u001b[0m\u001b[0matleast_2d\u001b[0m\u001b[0;34m(\u001b[0m\u001b[0msigmas_h\u001b[0m\u001b[0;34m)\u001b[0m\u001b[0;34m\u001b[0m\u001b[0;34m\u001b[0m\u001b[0m\n",
            "\u001b[0;32m<ipython-input-39-d1c554635d8e>\u001b[0m in \u001b[0;36mhw\u001b[0;34m(w)\u001b[0m\n\u001b[1;32m     37\u001b[0m \u001b[0;32mdef\u001b[0m \u001b[0mhw\u001b[0m\u001b[0;34m(\u001b[0m\u001b[0mw\u001b[0m\u001b[0;34m)\u001b[0m\u001b[0;34m:\u001b[0m\u001b[0;34m\u001b[0m\u001b[0;34m\u001b[0m\u001b[0m\n\u001b[1;32m     38\u001b[0m     \u001b[0mx\u001b[0m \u001b[0;34m=\u001b[0m \u001b[0mparams\u001b[0m\u001b[0;34m.\u001b[0m\u001b[0mX_data\u001b[0m\u001b[0;34m[\u001b[0m\u001b[0mparams\u001b[0m\u001b[0;34m.\u001b[0m\u001b[0mcurr_idx\u001b[0m\u001b[0;34m]\u001b[0m\u001b[0;34m\u001b[0m\u001b[0;34m\u001b[0m\u001b[0m\n\u001b[0;32m---> 39\u001b[0;31m     \u001b[0mhxw\u001b[0m \u001b[0;34m=\u001b[0m \u001b[0mmeasurement_func\u001b[0m\u001b[0;34m(\u001b[0m\u001b[0mw\u001b[0m\u001b[0;34m,\u001b[0m \u001b[0mx\u001b[0m\u001b[0;34m)\u001b[0m\u001b[0;34m\u001b[0m\u001b[0;34m\u001b[0m\u001b[0m\n\u001b[0m\u001b[1;32m     40\u001b[0m     \u001b[0;32mreturn\u001b[0m \u001b[0mhxw\u001b[0m\u001b[0;34m\u001b[0m\u001b[0;34m\u001b[0m\u001b[0m\n\u001b[1;32m     41\u001b[0m \u001b[0;34m\u001b[0m\u001b[0m\n",
            "\u001b[0;32m<ipython-input-39-d1c554635d8e>\u001b[0m in \u001b[0;36mmeasurement_func\u001b[0;34m(w, x)\u001b[0m\n\u001b[1;32m     25\u001b[0m \u001b[0;32mdef\u001b[0m \u001b[0mmeasurement_func\u001b[0m\u001b[0;34m(\u001b[0m\u001b[0mw\u001b[0m\u001b[0;34m,\u001b[0m \u001b[0mx\u001b[0m\u001b[0;34m)\u001b[0m\u001b[0;34m:\u001b[0m\u001b[0;34m\u001b[0m\u001b[0;34m\u001b[0m\u001b[0m\n\u001b[1;32m     26\u001b[0m     \u001b[0mhxw_model\u001b[0m \u001b[0;34m=\u001b[0m \u001b[0mparams\u001b[0m\u001b[0;34m.\u001b[0m\u001b[0mhxw_model\u001b[0m\u001b[0;34m\u001b[0m\u001b[0;34m\u001b[0m\u001b[0m\n\u001b[0;32m---> 27\u001b[0;31m     \u001b[0mset_weights\u001b[0m\u001b[0;34m(\u001b[0m\u001b[0mhxw_model\u001b[0m\u001b[0;34m,\u001b[0m \u001b[0mw\u001b[0m\u001b[0;34m)\u001b[0m\u001b[0;34m\u001b[0m\u001b[0;34m\u001b[0m\u001b[0m\n\u001b[0m\u001b[1;32m     28\u001b[0m     \u001b[0mhxw\u001b[0m \u001b[0;34m=\u001b[0m \u001b[0mhxw_model\u001b[0m\u001b[0;34m.\u001b[0m\u001b[0mpredict\u001b[0m\u001b[0;34m(\u001b[0m\u001b[0mx\u001b[0m\u001b[0;34m.\u001b[0m\u001b[0mreshape\u001b[0m\u001b[0;34m(\u001b[0m\u001b[0;36m1\u001b[0m\u001b[0;34m,\u001b[0m \u001b[0mlen\u001b[0m\u001b[0;34m(\u001b[0m\u001b[0mx\u001b[0m\u001b[0;34m)\u001b[0m\u001b[0;34m)\u001b[0m\u001b[0;34m)\u001b[0m   \u001b[0;31m# Reshape needed to feed x as 1 sample to ANN model\u001b[0m\u001b[0;34m\u001b[0m\u001b[0;34m\u001b[0m\u001b[0m\n\u001b[1;32m     29\u001b[0m     \u001b[0mhxw\u001b[0m \u001b[0;34m=\u001b[0m \u001b[0mhxw\u001b[0m\u001b[0;34m.\u001b[0m\u001b[0mflatten\u001b[0m\u001b[0;34m(\u001b[0m\u001b[0;34m)\u001b[0m \u001b[0;31m# Flatten to make shape = (1,)\u001b[0m\u001b[0;34m\u001b[0m\u001b[0;34m\u001b[0m\u001b[0m\n",
            "\u001b[0;32m<ipython-input-38-23e90f57b047>\u001b[0m in \u001b[0;36mset_weights\u001b[0;34m(model, weights_vec)\u001b[0m\n\u001b[1;32m     10\u001b[0m \u001b[0;34m\u001b[0m\u001b[0m\n\u001b[1;32m     11\u001b[0m \u001b[0;32mdef\u001b[0m \u001b[0mset_weights\u001b[0m\u001b[0;34m(\u001b[0m\u001b[0mmodel\u001b[0m\u001b[0;34m,\u001b[0m \u001b[0mweights_vec\u001b[0m\u001b[0;34m)\u001b[0m\u001b[0;34m:\u001b[0m\u001b[0;34m\u001b[0m\u001b[0;34m\u001b[0m\u001b[0m\n\u001b[0;32m---> 12\u001b[0;31m     \u001b[0mprev_weights\u001b[0m \u001b[0;34m=\u001b[0m \u001b[0mmodel\u001b[0m\u001b[0;34m.\u001b[0m\u001b[0mget_weights\u001b[0m\u001b[0;34m(\u001b[0m\u001b[0;34m)\u001b[0m\u001b[0;34m\u001b[0m\u001b[0;34m\u001b[0m\u001b[0m\n\u001b[0m\u001b[1;32m     13\u001b[0m     \u001b[0;31m# logging.info(prev_weights)\u001b[0m\u001b[0;34m\u001b[0m\u001b[0;34m\u001b[0m\u001b[0;34m\u001b[0m\u001b[0m\n\u001b[1;32m     14\u001b[0m     \u001b[0mnew_weights\u001b[0m \u001b[0;34m=\u001b[0m \u001b[0;34m[\u001b[0m\u001b[0;34m]\u001b[0m\u001b[0;34m\u001b[0m\u001b[0;34m\u001b[0m\u001b[0m\n",
            "\u001b[0;31mAttributeError\u001b[0m: 'NoneType' object has no attribute 'get_weights'"
          ]
        }
      ]
    },
    {
      "cell_type": "code",
      "metadata": {
        "id": "wYWYbtPa8ABo",
        "colab_type": "code",
        "colab": {
          "base_uri": "https://localhost:8080/",
          "height": 1000
        },
        "outputId": "ea38ad58-880b-4848-ca34-5405668bf46d"
      },
      "source": [
        "import utility,ukf\n",
        "def main():\n",
        "    utility.setup_logging('output')\n",
        "    logging.info('Experiment parameters below')\n",
        "    logging.info('\\n{}'.format(pformat(params.__dict__)))\n",
        "\n",
        "    window = params.window_size\n",
        "\n",
        "    dt = 0.01\n",
        "    n_samples = params.train_series_length\n",
        "\n",
        "    X_series = utility.mackey_glass(sample_len=n_samples, tau=params.mg_tau, n_samples=window)\n",
        "    X_series = np.array(X_series[0]).reshape((n_samples))\n",
        "\n",
        "    params.X_data, params.y_data = prepare_dataset(X_series, window, stride=1)\n",
        "\n",
        "    params.hxw_model = create_neural_net(window)\n",
        "    w_init = get_weights_vector(params.hxw_model)\n",
        "    num_weights = w_init.shape[0]\n",
        "\n",
        "    P_init = 0.1 * np.eye(num_weights)  # Initial values of covariance matrix of state variables (MxM)\n",
        "    Q = params.Q_var * np.eye(num_weights)  # Process noise covariance matrix (MxM)\n",
        "    R = np.array([[params.R_var]])  # Measurement noise covariance matrix (DxD)\n",
        "\n",
        "    sgd_ann = create_neural_net(window)\n",
        "    sgd_ann.set_weights(params.hxw_model.get_weights())  # Same starting point as the UKF_ANN\n",
        "\n",
        "    ukf_ann = create_neural_net(window)\n",
        "    ukf_ann.set_weights(params.hxw_model.get_weights())  # Same starting point as the UKF_ANN\n",
        "\n",
        "    z_true_series = params.y_data\n",
        "    num_iter = params.epochs * len(z_true_series)\n",
        "\n",
        "    # 2 Kalman filter implementations to compare (from filterpy and my custom impl)\n",
        "    ukf_filter = create_ukf(Q, R, dt, w_init, P_init)\n",
        "    my_ukf = create_my_ukf(Q, R, dt, w_init, P_init)\n",
        "\n",
        "    # Pre-allocate output variables\n",
        "    ukf_w = np.zeros((num_weights, params.epochs))\n",
        "    my_ukf_w = np.zeros((num_weights, params.epochs))\n",
        "    ukf_train_mse = np.zeros(params.epochs)\n",
        "    my_ukf_train_mse = np.zeros(params.epochs)\n",
        "    sgd_train_mse = np.zeros(params.epochs)\n",
        "\n",
        "    # -------------------------------------------\n",
        "    # Training loop with UKF\n",
        "\n",
        "    logging.info(\"Training neural net with UKF\")\n",
        "    t0 = time.time()\n",
        "    epoch = 0\n",
        "\n",
        "    for i in range(num_iter):\n",
        "        idx = i % len(z_true_series)\n",
        "        # logging.info(idx)\n",
        "        if idx == 0:\n",
        "            if not params.train_ukf_ann:\n",
        "                break\n",
        "\n",
        "            preds = ukf_ann.predict(params.X_data)\n",
        "            mse = mean_squared_error(z_true_series, preds)\n",
        "            ukf_train_mse[epoch] = mse\n",
        "            my_ukf_train_mse[epoch] = mse\n",
        "\n",
        "            ukf_w[:, epoch] = ukf_filter.x[:]\n",
        "            my_ukf_w[:, epoch] = my_ukf.x[:]\n",
        "\n",
        "            epoch += 1\n",
        "            #logging.info('Epoch: {} / {}'.format(epoch, params.epochs))\n",
        "\n",
        "        params.curr_idx = idx  # For use in hw() to fetch correct x_k sample\n",
        "\n",
        "        # Time update (state prediction according to F, Q\n",
        "        ukf_filter.predict()\n",
        "        #my_ukf.predict()\n",
        "\n",
        "        # Measurement update (innovation) according to observed z, H, R\n",
        "        z = z_true_series[idx]\n",
        "        ukf_filter.update(z)\n",
        "        #my_ukf.update(z)\n",
        "\n",
        "        set_weights(params.hxw_model, ukf_filter.x)\n",
        "        set_weights(ukf_ann, ukf_filter.x)\n",
        "\n",
        "        # filter.x has shape Mx1\n",
        "        # ukf_w[:, i] = ukf_filter.x[:]\n",
        "        # my_ukf_w[:, i] = my_ukf.x[:]\n",
        "\n",
        "    time_to_train = time.time() - t0\n",
        "    logging.info('Training complete. time_to_train = {:.2f} sec, {:.2f} min'.format(time_to_train, time_to_train / 60))\n",
        "\n",
        "    # -------------------------------------------\n",
        "    # Train SGD ANN (for comparison)\n",
        "    logging.info(\"Training neural net with SGD\")\n",
        "    info_tracker = EpochInfoTracker()\n",
        "    callbacks = [info_tracker]\n",
        "    history = sgd_ann.fit(params.X_data, params.y_data, batch_size=1, epochs=params.epochs, verbose=3,\n",
        "                          callbacks=callbacks)\n",
        "    logging.info('Training SGD complete')\n",
        "\n",
        "    # -------------------------------------------\n",
        "    # Results analysis\n",
        "\n",
        "    # Visualize evolution of ANN weights\n",
        "    sgd_ann_w = np.array(info_tracker.weights_history).T\n",
        "\n",
        "    logging.info('Visualize evolution of UKF ANN weights')\n",
        "\n",
        "    x_var = range(params.epochs)\n",
        "    utility.plot(x_var, ukf_w[0, :], xlabel='Epoch', title='UKF ANN weights', label='W_0', alpha=0.8)\n",
        "    for j in range(1, ukf_w.shape[0]):\n",
        "        utility.plot(x_var, ukf_w[j, :], new_figure=False, label='W_' + str(j), alpha=0.8)\n",
        "\n",
        "    logging.info('Visualize evolution of SGD ANN weights')\n",
        "\n",
        "    x_var = range(params.epochs)\n",
        "    utility.plot(x_var, sgd_ann_w[0, :], xlabel='Epoch', title='SGD ANN weights', label='W_0', alpha=0.8)\n",
        "    for j in range(1, sgd_ann_w.shape[0]):\n",
        "        utility.plot(x_var, sgd_ann_w[j, :], new_figure=False, label='W_' + str(j), alpha=0.8)\n",
        "\n",
        "    # Visualize evolution of true y vs. hxw(x,w)\n",
        "    logging.info('Visualize evolution of true y vs. hxw(x,w)')\n",
        "\n",
        "    # Visualize error curve (SGD vs UKF)\n",
        "    x_var = range(params.epochs)\n",
        "    hist = history.history['loss']\n",
        "    utility.plot(x_var, hist, xlabel='Epoch', label='SGD ANN training history (MSE)')\n",
        "    utility.plot(x_var, ukf_train_mse, new_figure=False, label='UKF ANN training history (MSE)')\n",
        "\n",
        "    # True test series vs. ANN pred vs, UKF pred\n",
        "    logging.info('Evaluating and visualizing neural net predictions')\n",
        "    evaluate_neural_nets(sgd_ann, ukf_ann, window, use_train_series=True, train_series=X_series)\n",
        "    evaluate_neural_nets(sgd_ann, ukf_ann, window)\n",
        "\n",
        "    utility.save_all_figures('output')\n",
        "    plt.show()\n",
        "\n",
        "\n",
        "if __name__ == \"__main__\":\n",
        "    os.environ['CUDA_VISIBLE_DEVICES'] = '-1' # This line disables GPU\n",
        "    main()"
      ],
      "execution_count": 54,
      "outputs": [
        {
          "output_type": "stream",
          "text": [
            "2020-07-17 20:41:43,739 [INFO] Experiment parameters below\n",
            "2020-07-17 20:41:43,750 [INFO] \n",
            "{'Q_var': 0.001,\n",
            " 'R_var': 0.001,\n",
            " 'X_data': array([[ 0.12851075,  0.05709469, -0.01366731, ..., -0.32268233,\n",
            "        -0.34735302, -0.37271131],\n",
            "       [ 0.05709469, -0.01366731, -0.07291548, ..., -0.34735302,\n",
            "        -0.37271131, -0.39577696],\n",
            "       [-0.01366731, -0.07291548, -0.12579474, ..., -0.37271131,\n",
            "        -0.39577696, -0.40941702],\n",
            "       ...,\n",
            "       [ 0.25835535,  0.21449693,  0.16730836, ...,  0.00155213,\n",
            "        -0.00259589, -0.00847558],\n",
            "       [ 0.21449693,  0.16730836,  0.12227609, ..., -0.00259589,\n",
            "        -0.00847558, -0.01856998],\n",
            "       [ 0.16730836,  0.12227609,  0.08324572, ..., -0.00847558,\n",
            "        -0.01856998, -0.03486321]]),\n",
            " 'alpha': 1,\n",
            " 'beta': 2,\n",
            " 'curr_idx': 486,\n",
            " 'epochs': 12,\n",
            " 'hxw_model': <keras.engine.sequential.Sequential object at 0x7f9918085160>,\n",
            " 'kappa': 1,\n",
            " 'mg_tau': 30,\n",
            " 'test_series_length': 1000,\n",
            " 'train_series_length': 500,\n",
            " 'train_ukf_ann': True,\n",
            " 'ukf_dt': 0.1,\n",
            " 'window_size': 12,\n",
            " 'y_data': array([-3.95776965e-01, -4.09417021e-01, -4.29667907e-01, -4.44640965e-01,\n",
            "       -4.60272093e-01, -4.74674678e-01, -4.81821409e-01, -4.90079627e-01,\n",
            "       -5.00086156e-01, -5.02906971e-01, -5.10566411e-01, -5.14698970e-01,\n",
            "       -5.16909325e-01, -5.18981766e-01, -5.24825663e-01, -5.31292318e-01,\n",
            "       -5.34637223e-01, -5.38084817e-01, -5.36763490e-01, -5.21139449e-01,\n",
            "       -4.86584528e-01, -4.34655275e-01, -3.71044093e-01, -3.02452273e-01,\n",
            "       -2.35479735e-01, -1.74413099e-01, -1.21368019e-01, -7.77469982e-02,\n",
            "       -4.29482534e-02, -1.60820191e-02,  3.13327414e-03,  1.66948658e-02,\n",
            "        2.50219929e-02,  2.84439859e-02,  2.80619740e-02,  2.40012475e-02,\n",
            "        1.78204646e-02,  1.01914397e-02,  9.08801148e-04, -9.31346246e-03,\n",
            "       -1.95187813e-02, -3.08286793e-02, -4.12529552e-02, -5.13114915e-02,\n",
            "       -6.17225140e-02, -7.24285949e-02, -8.35114930e-02, -9.43034891e-02,\n",
            "       -1.04677901e-01, -1.12061931e-01, -1.12520190e-01, -1.02404575e-01,\n",
            "       -8.00276645e-02, -4.62173939e-02, -4.75961539e-03,  3.77680914e-02,\n",
            "        7.39920695e-02,  9.87224716e-02,  1.10611733e-01,  1.11102586e-01,\n",
            "        1.03067920e-01,  8.95646049e-02,  7.30028859e-02,  5.56699609e-02,\n",
            "        3.93525943e-02,  2.53860242e-02,  1.47643319e-02,  7.79319357e-03,\n",
            "        4.69915275e-03,  5.69286805e-03,  1.03973733e-02,  1.86261632e-02,\n",
            "        2.99917857e-02,  4.37705401e-02,  5.95104334e-02,  7.69686817e-02,\n",
            "        9.58485939e-02,  1.15724430e-01,  1.36151539e-01,  1.56501525e-01,\n",
            "        1.75682831e-01,  1.92108764e-01,  2.03473945e-01,  2.06411889e-01,\n",
            "        1.97001445e-01,  1.72994956e-01,  1.36029346e-01,  9.10175445e-02,\n",
            "        4.36070979e-02, -1.54791139e-03, -4.11970904e-02, -7.34027783e-02,\n",
            "       -9.72351928e-02, -1.12605685e-01, -1.20194985e-01, -1.21258457e-01,\n",
            "       -1.17462330e-01, -1.10598760e-01, -1.02393281e-01, -9.44945286e-02,\n",
            "       -8.83865361e-02, -8.52796316e-02, -8.62112435e-02, -9.18495385e-02,\n",
            "       -1.02500902e-01, -1.18201480e-01, -1.38727196e-01, -1.63587692e-01,\n",
            "       -1.92030226e-01, -2.23120979e-01, -2.55769079e-01, -2.88771545e-01,\n",
            "       -3.20863221e-01, -3.50683033e-01, -3.76631970e-01, -3.96702230e-01,\n",
            "       -4.08414909e-01, -4.09042614e-01, -3.96316902e-01, -3.69538421e-01,\n",
            "       -3.30366217e-01, -2.82430242e-01, -2.29999579e-01, -1.76778095e-01,\n",
            "       -1.25404118e-01, -7.75409244e-02, -3.41702001e-02,  4.17968591e-03,\n",
            "        3.73287178e-02,  6.54476900e-02,  8.90969448e-02,  1.09202042e-01,\n",
            "        1.26971184e-01,  1.43735844e-01,  1.60704695e-01,  1.78714864e-01,\n",
            "        1.98016817e-01,  2.18144706e-01,  2.37963128e-01,  2.55931598e-01,\n",
            "        2.70497918e-01,  2.80455089e-01,  2.85138779e-01,  2.84459853e-01,\n",
            "        2.78864434e-01,  2.69316967e-01,  2.57334221e-01,  2.45012828e-01,\n",
            "        2.34913646e-01,  2.29647553e-01,  2.31149761e-01,  2.39870808e-01,\n",
            "        2.54193615e-01,  2.70344752e-01,  2.83117363e-01,  2.87443321e-01,\n",
            "        2.80048187e-01,  2.60152683e-01,  2.29037261e-01,  1.89106922e-01,\n",
            "        1.43050832e-01,  9.33018887e-02,  4.17716814e-02, -1.02207189e-02,\n",
            "       -6.18743321e-02, -1.12733617e-01, -1.62479685e-01, -2.10754270e-01,\n",
            "       -2.57078769e-01, -3.00887529e-01, -3.41630663e-01, -3.78871759e-01,\n",
            "       -4.12333441e-01, -4.41889690e-01, -4.67530942e-01, -4.89331903e-01,\n",
            "       -5.07445874e-01, -5.22140729e-01, -5.33873411e-01, -5.43359418e-01,\n",
            "       -5.51548193e-01, -5.59433347e-01, -5.67748422e-01, -5.76725721e-01,\n",
            "       -5.86073926e-01, -5.95151555e-01, -6.03163876e-01, -6.09242100e-01,\n",
            "       -6.12387163e-01, -6.11331732e-01, -6.04390670e-01, -5.89400279e-01,\n",
            "       -5.63916405e-01, -5.25873525e-01, -4.74708449e-01, -4.12426381e-01,\n",
            "       -3.43692640e-01, -2.74560690e-01, -2.10608895e-01, -1.55659144e-01,\n",
            "       -1.11526596e-01, -7.84547031e-02, -5.57196481e-02, -4.21139182e-02,\n",
            "       -3.62468016e-02, -3.67034385e-02, -4.21228459e-02, -5.12440578e-02,\n",
            "       -6.29535564e-02, -7.63486409e-02, -9.08051929e-02, -1.06011186e-01,\n",
            "       -1.21924245e-01, -1.38648005e-01, -1.56273322e-01, -1.74749618e-01,\n",
            "       -1.93820253e-01, -2.13007012e-01, -2.31606038e-01, -2.48666521e-01,\n",
            "       -2.62945989e-01, -2.72863403e-01, -2.76503534e-01, -2.71751122e-01,\n",
            "       -2.56616013e-01, -2.29744782e-01, -1.91096417e-01, -1.42804869e-01,\n",
            "       -8.98626533e-02, -3.93124792e-02,  2.64614466e-03,  3.32962346e-02,\n",
            "        5.34705977e-02,  6.59255785e-02,  7.38348188e-02,  7.99957249e-02,\n",
            "        8.65417243e-02,  9.48891691e-02,  1.05783546e-01,  1.19403993e-01,\n",
            "        1.35511767e-01,  1.53614935e-01,  1.73106112e-01,  1.93341053e-01,\n",
            "        2.13661153e-01,  2.33394951e-01,  2.51877757e-01,  2.68505483e-01,\n",
            "        2.82811677e-01,  2.94545792e-01,  3.03736710e-01,  3.10734809e-01,\n",
            "        3.16223823e-01,  3.21173147e-01,  3.26664989e-01,  3.33492405e-01,\n",
            "        3.41414625e-01,  3.48133864e-01,  3.48875575e-01,  3.38387495e-01,\n",
            "        3.14689752e-01,  2.80101741e-01,  2.38870077e-01,  1.94872100e-01,\n",
            "        1.50741943e-01,  1.07835158e-01,  6.64871523e-02,  2.63550114e-02,\n",
            "       -1.32320949e-02, -5.29602898e-02, -9.32991834e-02, -1.34382480e-01,\n",
            "       -1.76003546e-01, -2.17694770e-01, -2.58843460e-01, -2.98804905e-01,\n",
            "       -3.36991485e-01, -3.72930921e-01, -4.06294328e-01, -4.36899241e-01,\n",
            "       -4.64696069e-01, -4.89747364e-01, -5.12207302e-01, -5.32304170e-01,\n",
            "       -5.50322021e-01, -5.66570988e-01, -5.81333400e-01, -5.94782191e-01,\n",
            "       -6.06893851e-01, -6.17405693e-01, -6.25844337e-01, -6.31575482e-01,\n",
            "       -6.33817737e-01, -6.31637014e-01, -6.23965234e-01, -6.09656018e-01,\n",
            "       -5.87563679e-01, -5.56647729e-01, -5.16156322e-01, -4.65967339e-01,\n",
            "       -4.07073936e-01, -3.41972801e-01, -2.74551441e-01, -2.09302879e-01,\n",
            "       -1.50238546e-01, -1.00113773e-01, -6.02548707e-02, -3.08310850e-02,\n",
            "       -1.12684758e-02, -6.05915206e-04,  2.26737971e-03, -1.52318979e-03,\n",
            "       -1.09064511e-02, -2.48990418e-02, -4.26227787e-02, -6.33134059e-02,\n",
            "       -8.63188320e-02, -1.11079033e-01, -1.37081039e-01, -1.63794250e-01,\n",
            "       -1.90607180e-01, -2.16785771e-01, -2.41453763e-01, -2.63587132e-01,\n",
            "       -2.82023999e-01, -2.95496419e-01, -3.02681833e-01, -3.02262371e-01,\n",
            "       -2.92987889e-01, -2.73769399e-01, -2.43877051e-01, -2.03379770e-01,\n",
            "       -1.53986195e-01, -1.00088778e-01, -4.87473358e-02, -7.17947413e-03,\n",
            "        2.07066561e-02,  3.53332806e-02,  3.98513945e-02,  3.82057715e-02,\n",
            "        3.40548619e-02,  3.04040471e-02,  2.95532135e-02,  3.31203589e-02,\n",
            "        4.20522910e-02,  5.66141796e-02,  7.63891002e-02,  1.00331411e-01,\n",
            "        1.26906119e-01,  1.54315634e-01,  1.80778146e-01,  2.04794029e-01,\n",
            "        2.25335676e-01,  2.41929543e-01,  2.54644009e-01,  2.64020000e-01,\n",
            "        2.70975102e-01,  2.76691139e-01,  2.82472542e-01,  2.89537117e-01,\n",
            "        2.98661244e-01,  3.09555728e-01,  3.19941982e-01,  3.25017492e-01,\n",
            "        3.19198866e-01,  3.00175728e-01,  2.70576929e-01,  2.35483523e-01,\n",
            "        1.99622942e-01,  1.66209861e-01,  1.36816378e-01,  1.11599795e-01,\n",
            "        8.96384265e-02,  6.92904568e-02,  4.85399358e-02,  2.53373592e-02,\n",
            "       -2.03461101e-03, -3.45870485e-02, -7.23605322e-02, -1.14425343e-01,\n",
            "       -1.59179243e-01, -2.04794599e-01, -2.49608779e-01, -2.92344271e-01,\n",
            "       -3.32165510e-01, -3.68637055e-01, -4.01644828e-01, -4.31316167e-01,\n",
            "       -4.57949939e-01, -4.81951851e-01, -5.03762484e-01, -5.23766634e-01,\n",
            "       -5.42185092e-01, -5.58976873e-01, -5.73808920e-01, -5.86128568e-01,\n",
            "       -5.95285530e-01, -6.00633022e-01, -6.01622017e-01, -5.97914894e-01,\n",
            "       -5.89471395e-01, -5.76526694e-01, -5.59436021e-01, -5.38437782e-01,\n",
            "       -5.13415562e-01, -4.83730351e-01, -4.48208271e-01, -4.05431470e-01,\n",
            "       -3.54498466e-01, -2.96142228e-01, -2.33452183e-01, -1.71268854e-01,\n",
            "       -1.14458877e-01, -6.64241527e-02, -2.87015541e-02, -1.37583020e-03,\n",
            "        1.63074695e-02,  2.54635963e-02,  2.72807165e-02,  2.28723373e-02,\n",
            "        1.32145684e-02, -8.64534669e-04, -1.86564240e-02, -3.95094879e-02,\n",
            "       -6.27448587e-02, -8.75787864e-02, -1.13081633e-01, -1.38182913e-01,\n",
            "       -1.61718146e-01, -1.82514936e-01, -1.99505129e-01, -2.11825417e-01,\n",
            "       -2.18860834e-01, -2.20209684e-01, -2.15583586e-01, -2.04678117e-01,\n",
            "       -1.87061195e-01, -1.62152445e-01, -1.29428904e-01, -8.90710703e-02,\n",
            "       -4.31792827e-02,  3.05153604e-03,  4.21240942e-02,  6.78870263e-02,\n",
            "        7.86876555e-02,  7.69279502e-02,  6.67322814e-02,  5.22300003e-02,\n",
            "        3.68924901e-02,  2.34409007e-02,  1.39357927e-02,  9.87588777e-03,\n",
            "        1.22435558e-02,  2.14796465e-02,  3.74041401e-02,  5.91461718e-02,\n",
            "        8.51859684e-02,  1.13583743e-01,  1.42360173e-01,  1.69883423e-01,\n",
            "        1.95109964e-01,  2.17620219e-01,  2.37494376e-01,  2.55115587e-01,\n",
            "        2.70966936e-01,  2.85442629e-01,  2.98649765e-01,  3.10142878e-01,\n",
            "        3.18531880e-01,  3.21047388e-01,  3.13652930e-01,  2.92794862e-01,\n",
            "        2.58355349e-01,  2.14496926e-01,  1.67308363e-01,  1.22276087e-01,\n",
            "        8.32457152e-02,  5.23013231e-02,  2.99321313e-02,  1.53087458e-02,\n",
            "        6.64024815e-03,  1.55212911e-03, -2.59588893e-03, -8.47558180e-03,\n",
            "       -1.85699766e-02, -3.48632126e-02, -5.84401828e-02])}\n",
            "2020-07-17 20:41:43,903 [INFO] Training neural net with UKF\n"
          ],
          "name": "stderr"
        },
        {
          "output_type": "stream",
          "text": [
            "Model: \"sequential_38\"\n",
            "_________________________________________________________________\n",
            "Layer (type)                 Output Shape              Param #   \n",
            "=================================================================\n",
            "dense_38 (Dense)             (None, 1)                 13        \n",
            "=================================================================\n",
            "Total params: 13\n",
            "Trainable params: 13\n",
            "Non-trainable params: 0\n",
            "_________________________________________________________________\n",
            "Model: \"sequential_39\"\n",
            "_________________________________________________________________\n",
            "Layer (type)                 Output Shape              Param #   \n",
            "=================================================================\n",
            "dense_39 (Dense)             (None, 1)                 13        \n",
            "=================================================================\n",
            "Total params: 13\n",
            "Trainable params: 13\n",
            "Non-trainable params: 0\n",
            "_________________________________________________________________\n",
            "Model: \"sequential_40\"\n",
            "_________________________________________________________________\n",
            "Layer (type)                 Output Shape              Param #   \n",
            "=================================================================\n",
            "dense_40 (Dense)             (None, 1)                 13        \n",
            "=================================================================\n",
            "Total params: 13\n",
            "Trainable params: 13\n",
            "Non-trainable params: 0\n",
            "_________________________________________________________________\n"
          ],
          "name": "stdout"
        },
        {
          "output_type": "stream",
          "text": [
            "2020-07-17 20:46:50,416 [INFO] Training complete. time_to_train = 306.51 sec, 5.11 min\n",
            "2020-07-17 20:46:50,417 [INFO] Training neural net with SGD\n"
          ],
          "name": "stderr"
        },
        {
          "output_type": "stream",
          "text": [
            "Epoch 1/12\n",
            "Epoch 2/12\n",
            "Epoch 3/12\n",
            "Epoch 4/12\n",
            "Epoch 5/12\n",
            "Epoch 6/12\n",
            "Epoch 7/12\n",
            "Epoch 8/12\n",
            "Epoch 9/12\n",
            "Epoch 10/12\n",
            "Epoch 11/12\n",
            "Epoch 12/12\n"
          ],
          "name": "stdout"
        },
        {
          "output_type": "stream",
          "text": [
            "2020-07-17 20:46:58,244 [INFO] Training SGD complete\n",
            "2020-07-17 20:46:58,245 [INFO] Visualize evolution of UKF ANN weights\n",
            "2020-07-17 20:46:58,315 [INFO] Visualize evolution of SGD ANN weights\n",
            "2020-07-17 20:46:58,379 [INFO] Visualize evolution of true y vs. hxw(x,w)\n",
            "2020-07-17 20:46:58,395 [INFO] Evaluating and visualizing neural net predictions\n"
          ],
          "name": "stderr"
        },
        {
          "output_type": "stream",
          "text": [
            "All figures saved to output\n"
          ],
          "name": "stdout"
        },
        {
          "output_type": "display_data",
          "data": {
            "image/png": "[encoded data removed]",
            "text/plain": [
              "<Figure size 432x288 with 1 Axes>"
            ]
          },
          "metadata": {
            "tags": [],
            "needs_background": "light"
          }
        },
        {
          "output_type": "display_data",
          "data": {
            "image/png": "[encoded data removed]",
            "text/plain": [
              "<Figure size 432x288 with 1 Axes>"
            ]
          },
          "metadata": {
            "tags": [],
            "needs_background": "light"
          }
        },
        {
          "output_type": "display_data",
          "data": {
            "image/png": "[encoded data removed]",
            "text/plain": [
              "<Figure size 432x288 with 1 Axes>"
            ]
          },
          "metadata": {
            "tags": [],
            "needs_background": "light"
          }
        },
        {
          "output_type": "display_data",
          "data": {
            "image/png": "[encoded data removed]",
            "text/plain": [
              "<Figure size 432x288 with 1 Axes>"
            ]
          },
          "metadata": {
            "tags": [],
            "needs_background": "light"
          }
        },
        {
          "output_type": "display_data",
          "data": {
            "image/png": "[encoded data removed]",
            "text/plain": [
              "<Figure size 432x288 with 1 Axes>"
            ]
          },
          "metadata": {
            "tags": [],
            "needs_background": "light"
          }
        }
      ]
    }
  ]
}